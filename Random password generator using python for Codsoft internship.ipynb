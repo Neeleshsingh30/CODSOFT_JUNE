{
 "cells": [
  {
   "cell_type": "markdown",
   "id": "ad1e755a",
   "metadata": {},
   "source": [
    "𝗧𝗔𝗦𝗞 -  𝟮  𝗥𝗔𝗡𝗗𝗢𝗠 𝗣𝗔𝗦𝗦𝗪𝗢𝗥𝗗 𝗚𝗘𝗡𝗘𝗥𝗔𝗧𝗢𝗥 𝗜𝗡 𝗣𝗬𝗧𝗛𝗢𝗡......!"
   ]
  },
  {
   "cell_type": "markdown",
   "id": "b0cb1d2b",
   "metadata": {},
   "source": [
    "𝗜𝗗𝗘 - 𝗝𝗨𝗣𝗜𝗧𝗘𝗥 𝗡𝗢𝗧𝗘𝗕𝗢𝗢𝗞"
   ]
  },
  {
   "cell_type": "markdown",
   "id": "5b515215",
   "metadata": {},
   "source": [
    "𝗟𝗔𝗡𝗚𝗨𝗔𝗚𝗘 = 𝗣𝗬𝗧𝗛𝗢𝗡"
   ]
  },
  {
   "cell_type": "markdown",
   "id": "f8c3500c",
   "metadata": {},
   "source": [
    "𝗧𝗛𝗜𝗦 𝗜𝗦 𝗠𝗔𝗗𝗘 𝗕𝗬 𝗡𝗘𝗘𝗟𝗘𝗦𝗛 𝗦𝗜𝗡𝗚𝗛 \n"
   ]
  },
  {
   "cell_type": "code",
   "execution_count": 1,
   "id": "cdae6cba",
   "metadata": {},
   "outputs": [],
   "source": [
    "# importinbg  the random module\n",
    "import random"
   ]
  },
  {
   "cell_type": "code",
   "execution_count": 3,
   "id": "c87c68bd",
   "metadata": {
    "scrolled": true
   },
   "outputs": [
    {
     "name": "stdout",
     "output_type": "stream",
     "text": [
      "ozh1x$Tm\n"
     ]
    }
   ],
   "source": [
    "# a function that will genrate a password on length(n) and return it.\n",
    "def generatePassword(n):\n",
    "    #define the choices of characters.\n",
    "    characters = \"123456789abcdefghijklmnopqrstuvwxyzABCDEFGHIJKLMNOPQRSTUVWXYZ!@#$%^&*()\"\n",
    "#     characters = \"123456789\"\n",
    "    \n",
    "    #initializing an empty string to store the password.\n",
    "    password =\"\"\n",
    "    \n",
    "    for i in range(n):\n",
    "        #random selecting one character and appending it to the resultant password string \n",
    "        password += random.choice(characters)\n",
    "    \n",
    "    #finally returning the randomly generated password. \n",
    "    return password\n",
    "\n",
    "if __name__ == \"__main__\":\n",
    "    n = 8\n",
    "    password = generatePassword(n)\n",
    "    print(password)\n",
    "    "
   ]
  },
  {
   "cell_type": "code",
   "execution_count": null,
   "id": "3be21c1d",
   "metadata": {},
   "outputs": [],
   "source": []
  }
 ],
 "metadata": {
  "kernelspec": {
   "display_name": "Python 3 (ipykernel)",
   "language": "python",
   "name": "python3"
  },
  "language_info": {
   "codemirror_mode": {
    "name": "ipython",
    "version": 3
   },
   "file_extension": ".py",
   "mimetype": "text/x-python",
   "name": "python",
   "nbconvert_exporter": "python",
   "pygments_lexer": "ipython3",
   "version": "3.9.13"
  }
 },
 "nbformat": 4,
 "nbformat_minor": 5
}
