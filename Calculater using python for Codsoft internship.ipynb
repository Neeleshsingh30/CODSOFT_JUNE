{
 "cells": [
  {
   "cell_type": "markdown",
   "id": "7dcc962b",
   "metadata": {},
   "source": [
    "𝗧𝗔𝗦𝗞 - 𝟭  𝗖𝗔𝗟𝗖𝗨𝗟𝗔𝗧𝗢𝗥\n",
    "\n",
    "𝗛𝗘𝗥𝗘 𝗪𝗘 𝗔𝗥𝗘 𝗠𝗔𝗞𝗜𝗡𝗚 𝗖𝗔𝗟𝗖𝗨𝗟𝗔𝗧𝗢𝗥 𝗨𝗦𝗜𝗡𝗚 𝗣𝗬𝗧𝗛𝗢𝗡\n",
    "\n",
    "𝗜𝗗𝗘 - 𝗝𝗨𝗣𝗜𝗧𝗘𝗥 𝗡𝗢𝗧𝗘𝗕𝗢𝗢𝗞\n",
    "\n",
    "𝗟𝗔𝗡𝗚𝗨𝗔𝗚𝗘 = 𝗣𝗬𝗧𝗛𝗢𝗡\n",
    "\n",
    "𝗧𝗛𝗜𝗦 𝗜𝗦 𝗖𝗔𝗟𝗖𝗨𝗟𝗔𝗧𝗢𝗥 𝗜𝗦 𝗠𝗔𝗗𝗘 𝗕𝗬 𝗡𝗘𝗘𝗟𝗘𝗦𝗛 𝗦𝗜𝗡𝗚𝗛\n",
    "\n",
    "\n"
   ]
  },
  {
   "cell_type": "code",
   "execution_count": null,
   "id": "1e272682",
   "metadata": {},
   "outputs": [
    {
     "name": "stdout",
     "output_type": "stream",
     "text": [
      "Select operation.\n",
      "1.Add\n",
      "2.Subtract\n",
      "3.Multiply\n",
      "4.Divide\n",
      "Enter choice(1/2/3/4): 1\n",
      "Enter first number: 500\n",
      "Enter second number: 251\n",
      "500.0 + 251.0 = 751.0\n",
      "Let's do next calculation? (yes/no): yes\n",
      "Enter choice(1/2/3/4): 2\n",
      "Enter first number: 41\n",
      "Enter second number: 25\n",
      "41.0 - 25.0 = 16.0\n",
      "Let's do next calculation? (yes/no): yes\n",
      "Enter choice(1/2/3/4): 3\n",
      "Enter first number: 54\n",
      "Enter second number: 21\n",
      "54.0 * 21.0 = 1134.0\n",
      "Let's do next calculation? (yes/no): 4\n",
      "Enter choice(1/2/3/4): 4\n",
      "Enter first number: 544\n",
      "Enter second number: 20\n",
      "544.0 / 20.0 = 27.2\n"
     ]
    }
   ],
   "source": [
    "# This function adds two numbers\n",
    "def add(x, y):\n",
    "    return x + y\n",
    "\n",
    "# This function subtracts two numbers\n",
    "def subtract(x, y):\n",
    "    return x - y\n",
    "\n",
    "# This function multiplies two numbers\n",
    "def multiply(x, y):\n",
    "    return x * y\n",
    "\n",
    "# This function divides two numbers\n",
    "def divide(x, y):\n",
    "    return x / y\n",
    "\n",
    "\n",
    "print(\"Select operation.\")\n",
    "print(\"1.Add\")\n",
    "print(\"2.Subtract\")\n",
    "print(\"3.Multiply\")\n",
    "print(\"4.Divide\")\n",
    "\n",
    "while True:\n",
    "    # take input from the user\n",
    "    choice = input(\"Enter choice(1/2/3/4): \")\n",
    "\n",
    "    # check if choice is one of the four options\n",
    "    if choice in ('1', '2', '3', '4'):\n",
    "        try:\n",
    "            num1 = float(input(\"Enter first number: \"))\n",
    "            num2 = float(input(\"Enter second number: \"))\n",
    "        except ValueError:\n",
    "            print(\"Invalid input. Please enter a number.\")\n",
    "            continue\n",
    "\n",
    "        if choice == '1':\n",
    "            print(num1, \"+\", num2, \"=\", add(num1, num2))\n",
    "\n",
    "        elif choice == '2':\n",
    "            print(num1, \"-\", num2, \"=\", subtract(num1, num2))\n",
    "\n",
    "        elif choice == '3':\n",
    "            print(num1, \"*\", num2, \"=\", multiply(num1, num2))\n",
    "\n",
    "        elif choice == '4':\n",
    "            print(num1, \"/\", num2, \"=\", divide(num1, num2))\n",
    "        \n",
    "        # check if user wants another calculation\n",
    "        # break the while loop if answer is no\n",
    "        next_calculation = input(\"Let's do next calculation? (yes/no): \")\n",
    "        if next_calculation == \"no\":\n",
    "          break\n",
    "    else:\n",
    "        print(\"Invalid Input\")"
   ]
  },
  {
   "cell_type": "code",
   "execution_count": null,
   "id": "e8fd2ec4",
   "metadata": {},
   "outputs": [],
   "source": []
  }
 ],
 "metadata": {
  "kernelspec": {
   "display_name": "Python 3 (ipykernel)",
   "language": "python",
   "name": "python3"
  },
  "language_info": {
   "codemirror_mode": {
    "name": "ipython",
    "version": 3
   },
   "file_extension": ".py",
   "mimetype": "text/x-python",
   "name": "python",
   "nbconvert_exporter": "python",
   "pygments_lexer": "ipython3",
   "version": "3.9.13"
  }
 },
 "nbformat": 4,
 "nbformat_minor": 5
}
